{
 "cells": [
  {
   "cell_type": "markdown",
   "metadata": {},
   "source": [
    "# Comparison"
   ]
  },
  {
   "cell_type": "code",
   "execution_count": 2,
   "metadata": {},
   "outputs": [],
   "source": [
    "import pandas as pd"
   ]
  },
  {
   "cell_type": "code",
   "execution_count": 32,
   "metadata": {},
   "outputs": [],
   "source": [
    "# Load job data\n",
    "df_all1 = pd.read_csv('../synthesis/data.jobcensus.synthesized.2020-11-24.csv')\n",
    "df_all2 = pd.read_csv('../synthesis/data.jobcensus.synthesized.2021-01-12.csv')\n",
    "\n",
    "# Load field aliases\n",
    "df_alias = pd.read_csv('../synthesis/data.jobcensus.field_aliases.csv')\n",
    "\n",
    "# Merge\n",
    "df1 = df_all1.merge(df_alias,on='JobField',how='inner').query('JobYear == 2020')\n",
    "df2 = df_all2.merge(df_alias,on='JobField',how='inner').query('JobYear == 2020')\n",
    "\n",
    "# set ids\n",
    "df1['JobID']=df1.apply(lambda row: f'{row.JobTitle}',1)\n",
    "df2['JobID']=df2.apply(lambda row: f'{row.JobTitle}',1)"
   ]
  },
  {
   "cell_type": "code",
   "execution_count": 33,
   "metadata": {},
   "outputs": [
    {
     "data": {
      "text/plain": [
       "(480, 480)"
      ]
     },
     "execution_count": 33,
     "metadata": {},
     "output_type": "execute_result"
    }
   ],
   "source": [
    "df1.shape[0], len(df1.JobID)"
   ]
  },
  {
   "cell_type": "code",
   "execution_count": 34,
   "metadata": {},
   "outputs": [
    {
     "data": {
      "text/plain": [
       "(632, 632)"
      ]
     },
     "execution_count": 34,
     "metadata": {},
     "output_type": "execute_result"
    }
   ],
   "source": [
    "df2.shape[0], len(df2.JobID)"
   ]
  },
  {
   "cell_type": "code",
   "execution_count": 47,
   "metadata": {},
   "outputs": [
    {
     "data": {
      "text/plain": [
       "228"
      ]
     },
     "execution_count": 47,
     "metadata": {},
     "output_type": "execute_result"
    }
   ],
   "source": [
    "# get new job ids\n",
    "new_job_ids = set(df2.JobID) - set(df1.JobID)\n",
    "len(new_job_ids)"
   ]
  },
  {
   "cell_type": "code",
   "execution_count": 46,
   "metadata": {},
   "outputs": [
    {
     "data": {
      "text/plain": [
       "152"
      ]
     },
     "execution_count": 46,
     "metadata": {},
     "output_type": "execute_result"
    }
   ],
   "source": [
    "# why is this smaller? have job titles been edited?\n",
    "df2.shape[0] - df1.shape[0]"
   ]
  },
  {
   "cell_type": "code",
   "execution_count": 44,
   "metadata": {},
   "outputs": [
    {
     "data": {
      "text/html": [
       "<div>\n",
       "<style scoped>\n",
       "    .dataframe tbody tr th:only-of-type {\n",
       "        vertical-align: middle;\n",
       "    }\n",
       "\n",
       "    .dataframe tbody tr th {\n",
       "        vertical-align: top;\n",
       "    }\n",
       "\n",
       "    .dataframe thead th {\n",
       "        text-align: right;\n",
       "    }\n",
       "</style>\n",
       "<table border=\"1\" class=\"dataframe\">\n",
       "  <thead>\n",
       "    <tr style=\"text-align: right;\">\n",
       "      <th></th>\n",
       "      <th>JobTitle</th>\n",
       "      <th>JobYear</th>\n",
       "      <th>JobLink</th>\n",
       "      <th>JobType</th>\n",
       "      <th>JobField</th>\n",
       "      <th>JobSource</th>\n",
       "      <th>JobDesc</th>\n",
       "      <th>JobLink_norm</th>\n",
       "      <th>FieldAlias</th>\n",
       "      <th>Count</th>\n",
       "      <th>JobID</th>\n",
       "    </tr>\n",
       "  </thead>\n",
       "  <tbody>\n",
       "    <tr>\n",
       "      <th>353</th>\n",
       "      <td>Eureka College (USA:IL)</td>\n",
       "      <td>2020</td>\n",
       "      <td>NaN</td>\n",
       "      <td>TT</td>\n",
       "      <td>Medieval</td>\n",
       "      <td>Wiki</td>\n",
       "      <td>Eureka College (USA:IL) Assistant Professor. M...</td>\n",
       "      <td>NaN</td>\n",
       "      <td>Medieval</td>\n",
       "      <td>202</td>\n",
       "      <td>Eureka College (USA:IL)</td>\n",
       "    </tr>\n",
       "    <tr>\n",
       "      <th>1461</th>\n",
       "      <td>Nova Southeastern University (Fort Lauderdale,...</td>\n",
       "      <td>2020</td>\n",
       "      <td>https://nsucareers.nova.edu/en-us/job/498244/f...</td>\n",
       "      <td>TT</td>\n",
       "      <td>British Open</td>\n",
       "      <td>Wiki</td>\n",
       "      <td>Nova Southeastern University (Fort Lauderdale,...</td>\n",
       "      <td>https://nsucareers.nova.edu/en-us/job/498244/f...</td>\n",
       "      <td>British Open</td>\n",
       "      <td>93</td>\n",
       "      <td>Nova Southeastern University (Fort Lauderdale,...</td>\n",
       "    </tr>\n",
       "    <tr>\n",
       "      <th>7707</th>\n",
       "      <td>Boston College (USA: MA). Assistant Professor ...</td>\n",
       "      <td>2020</td>\n",
       "      <td>https://apply.interfolio.com/79902</td>\n",
       "      <td>TT</td>\n",
       "      <td>Rhetoric/Composition</td>\n",
       "      <td>Wiki</td>\n",
       "      <td>Deadline: 15 December 2020. TT. FT. Job Ad. Up...</td>\n",
       "      <td>https://apply.interfolio.com/79902</td>\n",
       "      <td>Rhetoric/Composition</td>\n",
       "      <td>1952</td>\n",
       "      <td>Boston College (USA: MA). Assistant Professor ...</td>\n",
       "    </tr>\n",
       "    <tr>\n",
       "      <th>7711</th>\n",
       "      <td>Carleton University (Canada: Ottawa)- Assistan...</td>\n",
       "      <td>2020</td>\n",
       "      <td>https://carleton.ca/provost/2020/assistant-pro...</td>\n",
       "      <td>TT</td>\n",
       "      <td>Rhetoric/Composition</td>\n",
       "      <td>Wiki</td>\n",
       "      <td>Deadline: 15 December, 2020 Job Ad Updates:</td>\n",
       "      <td>https://carleton.ca/provost/2020/assistant-pro...</td>\n",
       "      <td>Rhetoric/Composition</td>\n",
       "      <td>1952</td>\n",
       "      <td>Carleton University (Canada: Ottawa)- Assistan...</td>\n",
       "    </tr>\n",
       "    <tr>\n",
       "      <th>7712</th>\n",
       "      <td>English, African American/African Diasporic Rh...</td>\n",
       "      <td>2020</td>\n",
       "      <td>https://webfarm.chapman.edu/jobs/job.aspx?id=1...</td>\n",
       "      <td>Unknown</td>\n",
       "      <td>Rhetoric/Composition</td>\n",
       "      <td>Wiki</td>\n",
       "      <td>Deadline: 15 November 2020. TT. FT. Job Announ...</td>\n",
       "      <td>https://webfarm.chapman.edu/jobs/job.aspx?id=1...</td>\n",
       "      <td>Rhetoric/Composition</td>\n",
       "      <td>1952</td>\n",
       "      <td>English, African American/African Diasporic Rh...</td>\n",
       "    </tr>\n",
       "    <tr>\n",
       "      <th>...</th>\n",
       "      <td>...</td>\n",
       "      <td>...</td>\n",
       "      <td>...</td>\n",
       "      <td>...</td>\n",
       "      <td>...</td>\n",
       "      <td>...</td>\n",
       "      <td>...</td>\n",
       "      <td>...</td>\n",
       "      <td>...</td>\n",
       "      <td>...</td>\n",
       "      <td>...</td>\n",
       "    </tr>\n",
       "    <tr>\n",
       "      <th>13930</th>\n",
       "      <td>Harvard University (USA: MA)</td>\n",
       "      <td>2020</td>\n",
       "      <td>https://academicpositions.harvard.edu/postings...</td>\n",
       "      <td>Unknown</td>\n",
       "      <td>Asian %26 Asian American Studies</td>\n",
       "      <td>Wiki</td>\n",
       "      <td>Harvard University (USA: MA), Lecturer in Hist...</td>\n",
       "      <td>https://academicpositions.harvard.edu/postings...</td>\n",
       "      <td>Ethnic Studies</td>\n",
       "      <td>1</td>\n",
       "      <td>Harvard University (USA: MA)</td>\n",
       "    </tr>\n",
       "    <tr>\n",
       "      <th>13937</th>\n",
       "      <td>Williams College</td>\n",
       "      <td>2020</td>\n",
       "      <td>NaN</td>\n",
       "      <td>Unknown</td>\n",
       "      <td>Chicanx %26 Latinx Studies</td>\n",
       "      <td>Wiki</td>\n",
       "      <td>Williams College (Williamstown, MA)</td>\n",
       "      <td>NaN</td>\n",
       "      <td>Ethnic Studies</td>\n",
       "      <td>3</td>\n",
       "      <td>Williams College</td>\n",
       "    </tr>\n",
       "    <tr>\n",
       "      <th>13938</th>\n",
       "      <td>San José State University</td>\n",
       "      <td>2020</td>\n",
       "      <td>NaN</td>\n",
       "      <td>Unknown</td>\n",
       "      <td>Chicanx %26 Latinx Studies</td>\n",
       "      <td>Wiki</td>\n",
       "      <td>San José State University (San José, CA)</td>\n",
       "      <td>NaN</td>\n",
       "      <td>Ethnic Studies</td>\n",
       "      <td>3</td>\n",
       "      <td>San José State University</td>\n",
       "    </tr>\n",
       "    <tr>\n",
       "      <th>13939</th>\n",
       "      <td>James Madison University (USA: VA).</td>\n",
       "      <td>2020</td>\n",
       "      <td>https://joblink.jmu.edu/postings/8091</td>\n",
       "      <td>TT</td>\n",
       "      <td>Chicanx %26 Latinx Studies</td>\n",
       "      <td>Wiki</td>\n",
       "      <td>James Madison University (USA: VA). Assistant ...</td>\n",
       "      <td>https://joblink.jmu.edu/postings/8091</td>\n",
       "      <td>Ethnic Studies</td>\n",
       "      <td>3</td>\n",
       "      <td>James Madison University (USA: VA).</td>\n",
       "    </tr>\n",
       "    <tr>\n",
       "      <th>13941</th>\n",
       "      <td>Clarkson University (Potsdam, NY, USA).</td>\n",
       "      <td>2020</td>\n",
       "      <td>https://www.higheredjobs.com/institution/detai...</td>\n",
       "      <td>TT</td>\n",
       "      <td>Native American Studies</td>\n",
       "      <td>Wiki</td>\n",
       "      <td>Clarkson University (Potsdam, NY, USA). Assist...</td>\n",
       "      <td>https://www.higheredjobs.com/institution/detai...</td>\n",
       "      <td>Ethnic Studies</td>\n",
       "      <td>2</td>\n",
       "      <td>Clarkson University (Potsdam, NY, USA).</td>\n",
       "    </tr>\n",
       "  </tbody>\n",
       "</table>\n",
       "<p>234 rows × 11 columns</p>\n",
       "</div>"
      ],
      "text/plain": [
       "                                                JobTitle  JobYear  \\\n",
       "353                              Eureka College (USA:IL)     2020   \n",
       "1461   Nova Southeastern University (Fort Lauderdale,...     2020   \n",
       "7707   Boston College (USA: MA). Assistant Professor ...     2020   \n",
       "7711   Carleton University (Canada: Ottawa)- Assistan...     2020   \n",
       "7712   English, African American/African Diasporic Rh...     2020   \n",
       "...                                                  ...      ...   \n",
       "13930                       Harvard University (USA: MA)     2020   \n",
       "13937                                   Williams College     2020   \n",
       "13938                          San José State University     2020   \n",
       "13939                James Madison University (USA: VA).     2020   \n",
       "13941            Clarkson University (Potsdam, NY, USA).     2020   \n",
       "\n",
       "                                                 JobLink  JobType  \\\n",
       "353                                                  NaN       TT   \n",
       "1461   https://nsucareers.nova.edu/en-us/job/498244/f...       TT   \n",
       "7707                  https://apply.interfolio.com/79902       TT   \n",
       "7711   https://carleton.ca/provost/2020/assistant-pro...       TT   \n",
       "7712   https://webfarm.chapman.edu/jobs/job.aspx?id=1...  Unknown   \n",
       "...                                                  ...      ...   \n",
       "13930  https://academicpositions.harvard.edu/postings...  Unknown   \n",
       "13937                                                NaN  Unknown   \n",
       "13938                                                NaN  Unknown   \n",
       "13939              https://joblink.jmu.edu/postings/8091       TT   \n",
       "13941  https://www.higheredjobs.com/institution/detai...       TT   \n",
       "\n",
       "                               JobField JobSource  \\\n",
       "353                            Medieval      Wiki   \n",
       "1461                       British Open      Wiki   \n",
       "7707               Rhetoric/Composition      Wiki   \n",
       "7711               Rhetoric/Composition      Wiki   \n",
       "7712               Rhetoric/Composition      Wiki   \n",
       "...                                 ...       ...   \n",
       "13930  Asian %26 Asian American Studies      Wiki   \n",
       "13937        Chicanx %26 Latinx Studies      Wiki   \n",
       "13938        Chicanx %26 Latinx Studies      Wiki   \n",
       "13939        Chicanx %26 Latinx Studies      Wiki   \n",
       "13941           Native American Studies      Wiki   \n",
       "\n",
       "                                                 JobDesc  \\\n",
       "353    Eureka College (USA:IL) Assistant Professor. M...   \n",
       "1461   Nova Southeastern University (Fort Lauderdale,...   \n",
       "7707   Deadline: 15 December 2020. TT. FT. Job Ad. Up...   \n",
       "7711         Deadline: 15 December, 2020 Job Ad Updates:   \n",
       "7712   Deadline: 15 November 2020. TT. FT. Job Announ...   \n",
       "...                                                  ...   \n",
       "13930  Harvard University (USA: MA), Lecturer in Hist...   \n",
       "13937                Williams College (Williamstown, MA)   \n",
       "13938           San José State University (San José, CA)   \n",
       "13939  James Madison University (USA: VA). Assistant ...   \n",
       "13941  Clarkson University (Potsdam, NY, USA). Assist...   \n",
       "\n",
       "                                            JobLink_norm  \\\n",
       "353                                                  NaN   \n",
       "1461   https://nsucareers.nova.edu/en-us/job/498244/f...   \n",
       "7707                  https://apply.interfolio.com/79902   \n",
       "7711   https://carleton.ca/provost/2020/assistant-pro...   \n",
       "7712   https://webfarm.chapman.edu/jobs/job.aspx?id=1...   \n",
       "...                                                  ...   \n",
       "13930  https://academicpositions.harvard.edu/postings...   \n",
       "13937                                                NaN   \n",
       "13938                                                NaN   \n",
       "13939              https://joblink.jmu.edu/postings/8091   \n",
       "13941  https://www.higheredjobs.com/institution/detai...   \n",
       "\n",
       "                 FieldAlias  Count  \\\n",
       "353                Medieval    202   \n",
       "1461           British Open     93   \n",
       "7707   Rhetoric/Composition   1952   \n",
       "7711   Rhetoric/Composition   1952   \n",
       "7712   Rhetoric/Composition   1952   \n",
       "...                     ...    ...   \n",
       "13930        Ethnic Studies      1   \n",
       "13937        Ethnic Studies      3   \n",
       "13938        Ethnic Studies      3   \n",
       "13939        Ethnic Studies      3   \n",
       "13941        Ethnic Studies      2   \n",
       "\n",
       "                                                   JobID  \n",
       "353                              Eureka College (USA:IL)  \n",
       "1461   Nova Southeastern University (Fort Lauderdale,...  \n",
       "7707   Boston College (USA: MA). Assistant Professor ...  \n",
       "7711   Carleton University (Canada: Ottawa)- Assistan...  \n",
       "7712   English, African American/African Diasporic Rh...  \n",
       "...                                                  ...  \n",
       "13930                       Harvard University (USA: MA)  \n",
       "13937                                   Williams College  \n",
       "13938                          San José State University  \n",
       "13939                James Madison University (USA: VA).  \n",
       "13941            Clarkson University (Potsdam, NY, USA).  \n",
       "\n",
       "[234 rows x 11 columns]"
      ]
     },
     "execution_count": 44,
     "metadata": {},
     "output_type": "execute_result"
    }
   ],
   "source": [
    "# get new jobs\n",
    "new_jobs = df2[df2.JobID.isin(new_job_ids)]\n",
    "new_jobs"
   ]
  },
  {
   "cell_type": "code",
   "execution_count": 43,
   "metadata": {},
   "outputs": [
    {
     "data": {
      "text/plain": [
       "Postdoc                        61\n",
       "Ethnic Studies                 40\n",
       "--                             34\n",
       "Communication/Media Studies    29\n",
       "Creative Writing               21\n",
       "Rhetoric/Composition           17\n",
       "Anglophone/Postcolonial         9\n",
       "Languages                       6\n",
       "American Studies                5\n",
       "Gender Studies                  5\n",
       "New Media and DH                2\n",
       "Jewish Studies                  2\n",
       "Medieval                        1\n",
       "Film Studies                    1\n",
       "British Open                    1\n",
       "Name: FieldAlias, dtype: int64"
      ]
     },
     "execution_count": 43,
     "metadata": {},
     "output_type": "execute_result"
    }
   ],
   "source": [
    "# new jobs\n",
    "new_jobs.FieldAlias.value_counts()"
   ]
  },
  {
   "cell_type": "code",
   "execution_count": 42,
   "metadata": {},
   "outputs": [
    {
     "data": {
      "text/plain": [
       "Postdoc                        138\n",
       "Ethnic Studies                 127\n",
       "--                             104\n",
       "Communication/Media Studies     53\n",
       "Rhetoric/Composition            47\n",
       "Creative Writing                39\n",
       "Languages                       38\n",
       "Anglophone/Postcolonial         19\n",
       "Gender Studies                  14\n",
       "American Studies                 7\n",
       "New Media and DH                 6\n",
       "Jewish Studies                   5\n",
       "Medieval                         4\n",
       "Comparative Literature           4\n",
       "Unknown                          4\n",
       "Generalist                       4\n",
       "Translation Studies              3\n",
       "British: C17-C18                 3\n",
       "Film Studies                     3\n",
       "American: C20-C21                2\n",
       "British: C19                     2\n",
       "Early Modern                     1\n",
       "American: C19/Early              1\n",
       "Environmental Literature         1\n",
       "Children’s Lit                   1\n",
       "Poetry                           1\n",
       "British Open                     1\n",
       "Name: FieldAlias, dtype: int64"
      ]
     },
     "execution_count": 42,
     "metadata": {},
     "output_type": "execute_result"
    }
   ],
   "source": [
    "# all jobs\n",
    "df2.FieldAlias.value_counts()"
   ]
  },
  {
   "cell_type": "code",
   "execution_count": null,
   "metadata": {},
   "outputs": [],
   "source": []
  }
 ],
 "metadata": {
  "kernelspec": {
   "display_name": "Python 3",
   "language": "python",
   "name": "python3"
  },
  "language_info": {
   "codemirror_mode": {
    "name": "ipython",
    "version": 3
   },
   "file_extension": ".py",
   "mimetype": "text/x-python",
   "name": "python",
   "nbconvert_exporter": "python",
   "pygments_lexer": "ipython3",
   "version": "3.7.7"
  },
  "widgets": {
   "application/vnd.jupyter.widget-state+json": {
    "state": {},
    "version_major": 2,
    "version_minor": 0
   }
  }
 },
 "nbformat": 4,
 "nbformat_minor": 4
}
