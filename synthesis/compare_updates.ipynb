{
 "cells": [
  {
   "cell_type": "markdown",
   "metadata": {},
   "source": [
    "# Comparison"
   ]
  },
  {
   "cell_type": "code",
   "execution_count": 2,
   "metadata": {},
   "outputs": [],
   "source": [
    "import pandas as pd"
   ]
  },
  {
   "cell_type": "code",
   "execution_count": 4,
   "metadata": {},
   "outputs": [],
   "source": [
    "# Load job data\n",
    "# df_all1 = pd.read_csv('../synthesis/data.jobcensus.synthesized.2020-11-24.csv')\n",
    "# df_all2 = pd.read_csv('../synthesis/data.jobcensus.synthesized.2021-01-12.csv')\n",
    "\n",
    "df_all1 = pd.read_csv('../synthesis/data.jobcensus.synthesized.2021-01-12.csv')\n",
    "df_all2 = pd.read_csv('../synthesis/data.jobcensus.synthesized.2021-05-05.csv')\n",
    "\n",
    "# Load field aliases\n",
    "df_alias = pd.read_csv('../synthesis/data.jobcensus.field_aliases.csv')\n",
    "\n",
    "# Merge\n",
    "df1 = df_all1.merge(df_alias,on='JobField',how='inner').query('JobYear == 2020')\n",
    "df2 = df_all2.merge(df_alias,on='JobField',how='inner').query('JobYear == 2020')\n",
    "\n",
    "# set ids\n",
    "df1['JobID']=df1.apply(lambda row: f'{row.JobTitle}',1)\n",
    "df2['JobID']=df2.apply(lambda row: f'{row.JobTitle}',1)"
   ]
  },
  {
   "cell_type": "code",
   "execution_count": 5,
   "metadata": {},
   "outputs": [
    {
     "data": {
      "text/plain": [
       "(632, 632)"
      ]
     },
     "execution_count": 5,
     "metadata": {},
     "output_type": "execute_result"
    }
   ],
   "source": [
    "df1.shape[0], len(df1.JobID)"
   ]
  },
  {
   "cell_type": "code",
   "execution_count": 6,
   "metadata": {},
   "outputs": [
    {
     "data": {
      "text/plain": [
       "(921, 921)"
      ]
     },
     "execution_count": 6,
     "metadata": {},
     "output_type": "execute_result"
    }
   ],
   "source": [
    "df2.shape[0], len(df2.JobID)"
   ]
  },
  {
   "cell_type": "code",
   "execution_count": 9,
   "metadata": {},
   "outputs": [
    {
     "data": {
      "text/plain": [
       "401"
      ]
     },
     "execution_count": 9,
     "metadata": {},
     "output_type": "execute_result"
    }
   ],
   "source": [
    "# get new job ids\n",
    "new_job_ids = set(df2.JobID) - set(df1.JobID)\n",
    "len(new_job_ids)"
   ]
  },
  {
   "cell_type": "code",
   "execution_count": 10,
   "metadata": {},
   "outputs": [
    {
     "data": {
      "text/plain": [
       "289"
      ]
     },
     "execution_count": 10,
     "metadata": {},
     "output_type": "execute_result"
    }
   ],
   "source": [
    "# why is this smaller? have job titles been edited?\n",
    "df2.shape[0] - df1.shape[0]"
   ]
  },
  {
   "cell_type": "code",
   "execution_count": 11,
   "metadata": {},
   "outputs": [
    {
     "data": {
      "text/html": [
       "<div>\n",
       "<style scoped>\n",
       "    .dataframe tbody tr th:only-of-type {\n",
       "        vertical-align: middle;\n",
       "    }\n",
       "\n",
       "    .dataframe tbody tr th {\n",
       "        vertical-align: top;\n",
       "    }\n",
       "\n",
       "    .dataframe thead th {\n",
       "        text-align: right;\n",
       "    }\n",
       "</style>\n",
       "<table border=\"1\" class=\"dataframe\">\n",
       "  <thead>\n",
       "    <tr style=\"text-align: right;\">\n",
       "      <th></th>\n",
       "      <th>JobTitle</th>\n",
       "      <th>JobYear</th>\n",
       "      <th>JobLink</th>\n",
       "      <th>JobType</th>\n",
       "      <th>JobField</th>\n",
       "      <th>JobSource</th>\n",
       "      <th>JobDesc</th>\n",
       "      <th>JobLink_norm</th>\n",
       "      <th>FieldAlias</th>\n",
       "      <th>Count</th>\n",
       "      <th>JobID</th>\n",
       "    </tr>\n",
       "  </thead>\n",
       "  <tbody>\n",
       "    <tr>\n",
       "      <th>354</th>\n",
       "      <td>Flagler College (Florida: USA).</td>\n",
       "      <td>2020</td>\n",
       "      <td>NaN</td>\n",
       "      <td>TT</td>\n",
       "      <td>Medieval</td>\n",
       "      <td>Wiki</td>\n",
       "      <td>Flagler College (Florida: USA). Assistant Prof...</td>\n",
       "      <td>NaN</td>\n",
       "      <td>Medieval</td>\n",
       "      <td>202</td>\n",
       "      <td>Flagler College (Florida: USA).</td>\n",
       "    </tr>\n",
       "    <tr>\n",
       "      <th>1462</th>\n",
       "      <td>Boğaziçi University (Istanbul, Turkey), Assist...</td>\n",
       "      <td>2020</td>\n",
       "      <td>NaN</td>\n",
       "      <td>TT</td>\n",
       "      <td>British Open</td>\n",
       "      <td>Wiki</td>\n",
       "      <td>Boğaziçi University (Istanbul, Turkey), Assist...</td>\n",
       "      <td>NaN</td>\n",
       "      <td>British Open</td>\n",
       "      <td>93</td>\n",
       "      <td>Boğaziçi University (Istanbul, Turkey), Assist...</td>\n",
       "    </tr>\n",
       "    <tr>\n",
       "      <th>1464</th>\n",
       "      <td>Professor in English: Ghent University (Ghent,...</td>\n",
       "      <td>2020</td>\n",
       "      <td>https://joblist.mla.org/job-details/3051/profe...</td>\n",
       "      <td>TT</td>\n",
       "      <td>British Open</td>\n",
       "      <td>Wiki</td>\n",
       "      <td>https://joblist.mla.org/job-details/3051/profe...</td>\n",
       "      <td>https://joblist.mla.org/job-details/3051</td>\n",
       "      <td>British Open</td>\n",
       "      <td>93</td>\n",
       "      <td>Professor in English: Ghent University (Ghent,...</td>\n",
       "    </tr>\n",
       "    <tr>\n",
       "      <th>7708</th>\n",
       "      <td>Appalachian State University (USA: NC). Assist...</td>\n",
       "      <td>2020</td>\n",
       "      <td>https://appstate.peopleadmin.com/postings/26805</td>\n",
       "      <td>TT</td>\n",
       "      <td>Rhetoric/Composition</td>\n",
       "      <td>Wiki</td>\n",
       "      <td>Deadline: November 16, 2020. TT. FT. Job Ad. U...</td>\n",
       "      <td>https://appstate.peopleadmin.com/postings/26805</td>\n",
       "      <td>Rhetoric/Composition</td>\n",
       "      <td>1952</td>\n",
       "      <td>Appalachian State University (USA: NC). Assist...</td>\n",
       "    </tr>\n",
       "    <tr>\n",
       "      <th>7719</th>\n",
       "      <td>Embry Riddle Aeronautical University-Prescott ...</td>\n",
       "      <td>2020</td>\n",
       "      <td>NaN</td>\n",
       "      <td>TT</td>\n",
       "      <td>Rhetoric/Composition</td>\n",
       "      <td>Wiki</td>\n",
       "      <td>Deadline: 15 November 2020. TT. FT. Updates: F...</td>\n",
       "      <td>NaN</td>\n",
       "      <td>Rhetoric/Composition</td>\n",
       "      <td>1952</td>\n",
       "      <td>Embry Riddle Aeronautical University-Prescott ...</td>\n",
       "    </tr>\n",
       "    <tr>\n",
       "      <th>...</th>\n",
       "      <td>...</td>\n",
       "      <td>...</td>\n",
       "      <td>...</td>\n",
       "      <td>...</td>\n",
       "      <td>...</td>\n",
       "      <td>...</td>\n",
       "      <td>...</td>\n",
       "      <td>...</td>\n",
       "      <td>...</td>\n",
       "      <td>...</td>\n",
       "      <td>...</td>\n",
       "    </tr>\n",
       "    <tr>\n",
       "      <th>14501</th>\n",
       "      <td>Portland State University (USA:OR)</td>\n",
       "      <td>2020</td>\n",
       "      <td>NaN</td>\n",
       "      <td>Unknown</td>\n",
       "      <td>Chicanx %26 Latinx Studies</td>\n",
       "      <td>Wiki</td>\n",
       "      <td>Portland State University (USA:OR)</td>\n",
       "      <td>NaN</td>\n",
       "      <td>Ethnic Studies</td>\n",
       "      <td>3</td>\n",
       "      <td>Portland State University (USA:OR)</td>\n",
       "    </tr>\n",
       "    <tr>\n",
       "      <th>14502</th>\n",
       "      <td>Union Institute &amp; University (Cincinnati, OH -...</td>\n",
       "      <td>2020</td>\n",
       "      <td>https://recruiting.ultipro.com/UNI1045UIU/JobB...</td>\n",
       "      <td>Unknown</td>\n",
       "      <td>Chicanx %26 Latinx Studies</td>\n",
       "      <td>Wiki</td>\n",
       "      <td>Union Institute &amp; University (Cincinnati, OH -...</td>\n",
       "      <td>https://recruiting.ultipro.com/UNI1045UIU/JobB...</td>\n",
       "      <td>Ethnic Studies</td>\n",
       "      <td>3</td>\n",
       "      <td>Union Institute &amp; University (Cincinnati, OH -...</td>\n",
       "    </tr>\n",
       "    <tr>\n",
       "      <th>14503</th>\n",
       "      <td>Villanova University (Villanova PA)</td>\n",
       "      <td>2020</td>\n",
       "      <td>NaN</td>\n",
       "      <td>TT</td>\n",
       "      <td>Chicanx %26 Latinx Studies</td>\n",
       "      <td>Wiki</td>\n",
       "      <td>Villanova University (Villanova PA). Tenure-tr...</td>\n",
       "      <td>NaN</td>\n",
       "      <td>Ethnic Studies</td>\n",
       "      <td>3</td>\n",
       "      <td>Villanova University (Villanova PA)</td>\n",
       "    </tr>\n",
       "    <tr>\n",
       "      <th>14506</th>\n",
       "      <td>Union Institute &amp; University (Cincinnati, OH -...</td>\n",
       "      <td>2020</td>\n",
       "      <td>https://recruiting.ultipro.com/UNI1045UIU/JobB...</td>\n",
       "      <td>Unknown</td>\n",
       "      <td>Native American Studies</td>\n",
       "      <td>Wiki</td>\n",
       "      <td>Union Institute &amp; University (Cincinnati, OH -...</td>\n",
       "      <td>https://recruiting.ultipro.com/UNI1045UIU/JobB...</td>\n",
       "      <td>Ethnic Studies</td>\n",
       "      <td>2</td>\n",
       "      <td>Union Institute &amp; University (Cincinnati, OH -...</td>\n",
       "    </tr>\n",
       "    <tr>\n",
       "      <th>14507</th>\n",
       "      <td>University of Illinois, Urbana-Champaign (Cham...</td>\n",
       "      <td>2020</td>\n",
       "      <td>https://jobs.illinois.edu/faculty-positions/jo...</td>\n",
       "      <td>TT</td>\n",
       "      <td>Native American Studies</td>\n",
       "      <td>Wiki</td>\n",
       "      <td>University of Illinois, Urbana-Champaign (Cham...</td>\n",
       "      <td>https://jobs.illinois.edu/faculty-positions/jo...</td>\n",
       "      <td>Ethnic Studies</td>\n",
       "      <td>2</td>\n",
       "      <td>University of Illinois, Urbana-Champaign (Cham...</td>\n",
       "    </tr>\n",
       "  </tbody>\n",
       "</table>\n",
       "<p>407 rows × 11 columns</p>\n",
       "</div>"
      ],
      "text/plain": [
       "                                                JobTitle  JobYear  \\\n",
       "354                      Flagler College (Florida: USA).     2020   \n",
       "1462   Boğaziçi University (Istanbul, Turkey), Assist...     2020   \n",
       "1464   Professor in English: Ghent University (Ghent,...     2020   \n",
       "7708   Appalachian State University (USA: NC). Assist...     2020   \n",
       "7719   Embry Riddle Aeronautical University-Prescott ...     2020   \n",
       "...                                                  ...      ...   \n",
       "14501                 Portland State University (USA:OR)     2020   \n",
       "14502  Union Institute & University (Cincinnati, OH -...     2020   \n",
       "14503                Villanova University (Villanova PA)     2020   \n",
       "14506  Union Institute & University (Cincinnati, OH -...     2020   \n",
       "14507  University of Illinois, Urbana-Champaign (Cham...     2020   \n",
       "\n",
       "                                                 JobLink  JobType  \\\n",
       "354                                                  NaN       TT   \n",
       "1462                                                 NaN       TT   \n",
       "1464   https://joblist.mla.org/job-details/3051/profe...       TT   \n",
       "7708     https://appstate.peopleadmin.com/postings/26805       TT   \n",
       "7719                                                 NaN       TT   \n",
       "...                                                  ...      ...   \n",
       "14501                                                NaN  Unknown   \n",
       "14502  https://recruiting.ultipro.com/UNI1045UIU/JobB...  Unknown   \n",
       "14503                                                NaN       TT   \n",
       "14506  https://recruiting.ultipro.com/UNI1045UIU/JobB...  Unknown   \n",
       "14507  https://jobs.illinois.edu/faculty-positions/jo...       TT   \n",
       "\n",
       "                         JobField JobSource  \\\n",
       "354                      Medieval      Wiki   \n",
       "1462                 British Open      Wiki   \n",
       "1464                 British Open      Wiki   \n",
       "7708         Rhetoric/Composition      Wiki   \n",
       "7719         Rhetoric/Composition      Wiki   \n",
       "...                           ...       ...   \n",
       "14501  Chicanx %26 Latinx Studies      Wiki   \n",
       "14502  Chicanx %26 Latinx Studies      Wiki   \n",
       "14503  Chicanx %26 Latinx Studies      Wiki   \n",
       "14506     Native American Studies      Wiki   \n",
       "14507     Native American Studies      Wiki   \n",
       "\n",
       "                                                 JobDesc  \\\n",
       "354    Flagler College (Florida: USA). Assistant Prof...   \n",
       "1462   Boğaziçi University (Istanbul, Turkey), Assist...   \n",
       "1464   https://joblist.mla.org/job-details/3051/profe...   \n",
       "7708   Deadline: November 16, 2020. TT. FT. Job Ad. U...   \n",
       "7719   Deadline: 15 November 2020. TT. FT. Updates: F...   \n",
       "...                                                  ...   \n",
       "14501                 Portland State University (USA:OR)   \n",
       "14502  Union Institute & University (Cincinnati, OH -...   \n",
       "14503  Villanova University (Villanova PA). Tenure-tr...   \n",
       "14506  Union Institute & University (Cincinnati, OH -...   \n",
       "14507  University of Illinois, Urbana-Champaign (Cham...   \n",
       "\n",
       "                                            JobLink_norm  \\\n",
       "354                                                  NaN   \n",
       "1462                                                 NaN   \n",
       "1464            https://joblist.mla.org/job-details/3051   \n",
       "7708     https://appstate.peopleadmin.com/postings/26805   \n",
       "7719                                                 NaN   \n",
       "...                                                  ...   \n",
       "14501                                                NaN   \n",
       "14502  https://recruiting.ultipro.com/UNI1045UIU/JobB...   \n",
       "14503                                                NaN   \n",
       "14506  https://recruiting.ultipro.com/UNI1045UIU/JobB...   \n",
       "14507  https://jobs.illinois.edu/faculty-positions/jo...   \n",
       "\n",
       "                 FieldAlias  Count  \\\n",
       "354                Medieval    202   \n",
       "1462           British Open     93   \n",
       "1464           British Open     93   \n",
       "7708   Rhetoric/Composition   1952   \n",
       "7719   Rhetoric/Composition   1952   \n",
       "...                     ...    ...   \n",
       "14501        Ethnic Studies      3   \n",
       "14502        Ethnic Studies      3   \n",
       "14503        Ethnic Studies      3   \n",
       "14506        Ethnic Studies      2   \n",
       "14507        Ethnic Studies      2   \n",
       "\n",
       "                                                   JobID  \n",
       "354                      Flagler College (Florida: USA).  \n",
       "1462   Boğaziçi University (Istanbul, Turkey), Assist...  \n",
       "1464   Professor in English: Ghent University (Ghent,...  \n",
       "7708   Appalachian State University (USA: NC). Assist...  \n",
       "7719   Embry Riddle Aeronautical University-Prescott ...  \n",
       "...                                                  ...  \n",
       "14501                 Portland State University (USA:OR)  \n",
       "14502  Union Institute & University (Cincinnati, OH -...  \n",
       "14503                Villanova University (Villanova PA)  \n",
       "14506  Union Institute & University (Cincinnati, OH -...  \n",
       "14507  University of Illinois, Urbana-Champaign (Cham...  \n",
       "\n",
       "[407 rows x 11 columns]"
      ]
     },
     "execution_count": 11,
     "metadata": {},
     "output_type": "execute_result"
    }
   ],
   "source": [
    "# get new jobs\n",
    "new_jobs = df2[df2.JobID.isin(new_job_ids)]\n",
    "new_jobs"
   ]
  },
  {
   "cell_type": "code",
   "execution_count": 12,
   "metadata": {},
   "outputs": [
    {
     "data": {
      "text/plain": [
       "Postdoc                        108\n",
       "Creative Writing                62\n",
       "Ethnic Studies                  60\n",
       "Theatre/Drama                   49\n",
       "Rhetoric/Composition            45\n",
       "Communication/Media Studies     28\n",
       "--                              16\n",
       "Gender Studies                   8\n",
       "Anglophone/Postcolonial          8\n",
       "Jewish Studies                   5\n",
       "American Studies                 4\n",
       "American: C19/Early              3\n",
       "Languages                        3\n",
       "British: C17-C18                 2\n",
       "British Open                     2\n",
       "New Media and DH                 1\n",
       "Critical Theory                  1\n",
       "British: C19                     1\n",
       "Medieval                         1\n",
       "Name: FieldAlias, dtype: int64"
      ]
     },
     "execution_count": 12,
     "metadata": {},
     "output_type": "execute_result"
    }
   ],
   "source": [
    "# new jobs\n",
    "new_jobs.FieldAlias.value_counts()"
   ]
  },
  {
   "cell_type": "code",
   "execution_count": 13,
   "metadata": {},
   "outputs": [
    {
     "data": {
      "text/plain": [
       "Postdoc                        232\n",
       "Ethnic Studies                 184\n",
       "Creative Writing               105\n",
       "Rhetoric/Composition            89\n",
       "Communication/Media Studies     82\n",
       "Theatre/Drama                   49\n",
       "Languages                       41\n",
       "Anglophone/Postcolonial         26\n",
       "--                              24\n",
       "Gender Studies                  22\n",
       "American Studies                11\n",
       "Jewish Studies                   9\n",
       "British: C17-C18                 5\n",
       "New Media and DH                 5\n",
       "Medieval                         5\n",
       "Unknown                          4\n",
       "Comparative Literature           4\n",
       "American: C19/Early              4\n",
       "Generalist                       4\n",
       "British: C19                     3\n",
       "Translation Studies              3\n",
       "British Open                     3\n",
       "American: C20-C21                2\n",
       "Early Modern                     1\n",
       "Poetry                           1\n",
       "Children’s Lit                   1\n",
       "Environmental Literature         1\n",
       "Critical Theory                  1\n",
       "Name: FieldAlias, dtype: int64"
      ]
     },
     "execution_count": 13,
     "metadata": {},
     "output_type": "execute_result"
    }
   ],
   "source": [
    "# all jobs\n",
    "df2.FieldAlias.value_counts()"
   ]
  },
  {
   "cell_type": "code",
   "execution_count": null,
   "metadata": {},
   "outputs": [],
   "source": []
  }
 ],
 "metadata": {
  "kernelspec": {
   "display_name": "Python 3",
   "language": "python",
   "name": "python3"
  },
  "language_info": {
   "codemirror_mode": {
    "name": "ipython",
    "version": 3
   },
   "file_extension": ".py",
   "mimetype": "text/x-python",
   "name": "python",
   "nbconvert_exporter": "python",
   "pygments_lexer": "ipython3",
   "version": "3.7.7"
  },
  "widgets": {
   "application/vnd.jupyter.widget-state+json": {
    "state": {},
    "version_major": 2,
    "version_minor": 0
   }
  }
 },
 "nbformat": 4,
 "nbformat_minor": 4
}
