{
 "cells": [
  {
   "cell_type": "markdown",
   "metadata": {},
   "source": [
    "# Comparison"
   ]
  },
  {
   "cell_type": "code",
   "execution_count": 3,
   "metadata": {},
   "outputs": [],
   "source": [
    "import pandas as pd,os"
   ]
  },
  {
   "cell_type": "code",
   "execution_count": 6,
   "metadata": {},
   "outputs": [
    {
     "data": {
      "text/plain": [
       "['data.jobcensus.synthesized.2020-11-24.csv',\n",
       " 'data.jobcensus.synthesized.2021-01-12.csv',\n",
       " 'data.jobcensus.synthesized.2021-05-05.csv',\n",
       " 'data.jobcensus.synthesized.2021-08-06.csv']"
      ]
     },
     "execution_count": 6,
     "metadata": {},
     "output_type": "execute_result"
    }
   ],
   "source": [
    "fns=sorted([\n",
    "    x for x in os.listdir('.')\n",
    "    if x.endswith('.csv') and '.synthesized.' in x and x.count('.')==4\n",
    "])\n",
    "fns"
   ]
  },
  {
   "cell_type": "code",
   "execution_count": 7,
   "metadata": {},
   "outputs": [],
   "source": [
    "# Load job data\n",
    "# df_all1 = pd.read_csv('../synthesis/data.jobcensus.synthesized.2020-11-24.csv')\n",
    "# df_all2 = pd.read_csv('../synthesis/data.jobcensus.synthesized.2021-01-12.csv')\n",
    "\n",
    "df_all1 = pd.read_csv(fns[-2])\n",
    "df_all2 = pd.read_csv(fns[-1])\n",
    "\n",
    "# Load field aliases\n",
    "df_alias = pd.read_csv('../synthesis/data.jobcensus.field_aliases.csv')\n",
    "\n",
    "# Merge\n",
    "df1 = df_all1.merge(df_alias,on='JobField',how='inner').query('JobYear == 2020')\n",
    "df2 = df_all2.merge(df_alias,on='JobField',how='inner').query('JobYear == 2020')\n",
    "\n",
    "# set ids\n",
    "df1['JobID']=df1.apply(lambda row: f'{row.JobTitle}',1)\n",
    "df2['JobID']=df2.apply(lambda row: f'{row.JobTitle}',1)"
   ]
  },
  {
   "cell_type": "code",
   "execution_count": 8,
   "metadata": {},
   "outputs": [
    {
     "data": {
      "text/plain": [
       "(921, 921)"
      ]
     },
     "execution_count": 8,
     "metadata": {},
     "output_type": "execute_result"
    }
   ],
   "source": [
    "df1.shape[0], len(df1.JobID)"
   ]
  },
  {
   "cell_type": "code",
   "execution_count": 9,
   "metadata": {},
   "outputs": [
    {
     "data": {
      "text/plain": [
       "(1229, 1229)"
      ]
     },
     "execution_count": 9,
     "metadata": {},
     "output_type": "execute_result"
    }
   ],
   "source": [
    "df2.shape[0], len(df2.JobID)"
   ]
  },
  {
   "cell_type": "code",
   "execution_count": 10,
   "metadata": {},
   "outputs": [
    {
     "data": {
      "text/plain": [
       "388"
      ]
     },
     "execution_count": 10,
     "metadata": {},
     "output_type": "execute_result"
    }
   ],
   "source": [
    "# get new job ids\n",
    "new_job_ids = set(df2.JobID) - set(df1.JobID)\n",
    "len(new_job_ids)"
   ]
  },
  {
   "cell_type": "code",
   "execution_count": 11,
   "metadata": {},
   "outputs": [
    {
     "data": {
      "text/plain": [
       "308"
      ]
     },
     "execution_count": 11,
     "metadata": {},
     "output_type": "execute_result"
    }
   ],
   "source": [
    "# why is this smaller? have job titles been edited?\n",
    "df2.shape[0] - df1.shape[0]"
   ]
  },
  {
   "cell_type": "code",
   "execution_count": 12,
   "metadata": {},
   "outputs": [
    {
     "data": {
      "text/html": [
       "<div>\n",
       "<style scoped>\n",
       "    .dataframe tbody tr th:only-of-type {\n",
       "        vertical-align: middle;\n",
       "    }\n",
       "\n",
       "    .dataframe tbody tr th {\n",
       "        vertical-align: top;\n",
       "    }\n",
       "\n",
       "    .dataframe thead th {\n",
       "        text-align: right;\n",
       "    }\n",
       "</style>\n",
       "<table border=\"1\" class=\"dataframe\">\n",
       "  <thead>\n",
       "    <tr style=\"text-align: right;\">\n",
       "      <th></th>\n",
       "      <th>JobTitle</th>\n",
       "      <th>JobYear</th>\n",
       "      <th>JobLink</th>\n",
       "      <th>JobType</th>\n",
       "      <th>JobField</th>\n",
       "      <th>JobSource</th>\n",
       "      <th>JobDesc</th>\n",
       "      <th>JobLink_norm</th>\n",
       "      <th>FieldAlias</th>\n",
       "      <th>Count</th>\n",
       "      <th>JobID</th>\n",
       "    </tr>\n",
       "  </thead>\n",
       "  <tbody>\n",
       "    <tr>\n",
       "      <th>350</th>\n",
       "      <td>University of Göttingen (Germany)</td>\n",
       "      <td>2020</td>\n",
       "      <td>https://www.uni-goettingen.de/en/305402.html?c...</td>\n",
       "      <td>Unknown</td>\n",
       "      <td>Medieval</td>\n",
       "      <td>Wiki</td>\n",
       "      <td>University of Göttingen (Germany). Lecturer. D...</td>\n",
       "      <td>https://www.uni-goettingen.de/en/305402.html?c...</td>\n",
       "      <td>Medieval</td>\n",
       "      <td>202</td>\n",
       "      <td>University of Göttingen (Germany)</td>\n",
       "    </tr>\n",
       "    <tr>\n",
       "      <th>351</th>\n",
       "      <td>University of Groningen (Netherlands)</td>\n",
       "      <td>2020</td>\n",
       "      <td>https://www.rug.nl/about-ug/work-with-us/job-o...</td>\n",
       "      <td>Unknown</td>\n",
       "      <td>Medieval</td>\n",
       "      <td>Wiki</td>\n",
       "      <td>University of Groningen (Netherlands). Lecture...</td>\n",
       "      <td>https://www.rug.nl/about-ug/work-with-us/job-o...</td>\n",
       "      <td>Medieval</td>\n",
       "      <td>202</td>\n",
       "      <td>University of Groningen (Netherlands)</td>\n",
       "    </tr>\n",
       "    <tr>\n",
       "      <th>1466</th>\n",
       "      <td>The Hebrew University of Jerusalem (Israel): A...</td>\n",
       "      <td>2020</td>\n",
       "      <td>https://joblist.mla.org/job-details/3051/profe...</td>\n",
       "      <td>TT</td>\n",
       "      <td>British Open</td>\n",
       "      <td>Wiki</td>\n",
       "      <td>Deadline: 31 August, 2021. \\nSee details here:...</td>\n",
       "      <td>https://joblist.mla.org/job-details/3051</td>\n",
       "      <td>British Open</td>\n",
       "      <td>93</td>\n",
       "      <td>The Hebrew University of Jerusalem (Israel): A...</td>\n",
       "    </tr>\n",
       "    <tr>\n",
       "      <th>7756</th>\n",
       "      <td>Central Michigan University (MI, USA). Associa...</td>\n",
       "      <td>2020</td>\n",
       "      <td>https://www.jobs.cmich.edu/postings/33847</td>\n",
       "      <td>Non-TT</td>\n",
       "      <td>Rhetoric/Composition</td>\n",
       "      <td>Wiki</td>\n",
       "      <td>Deadline: July 31. NT. FT. Staff. Link to Job ...</td>\n",
       "      <td>https://www.jobs.cmich.edu/postings/33847</td>\n",
       "      <td>Rhetoric/Composition</td>\n",
       "      <td>1952</td>\n",
       "      <td>Central Michigan University (MI, USA). Associa...</td>\n",
       "    </tr>\n",
       "    <tr>\n",
       "      <th>7760</th>\n",
       "      <td>Elmira College (USA: NY). Director of the Firs...</td>\n",
       "      <td>2020</td>\n",
       "      <td>https://www.elmira.edu/Administration/Human_Re...</td>\n",
       "      <td>Non-TT</td>\n",
       "      <td>Rhetoric/Composition</td>\n",
       "      <td>Wiki</td>\n",
       "      <td>Deadline: May 1. TT. FT. Job Posting. Updates:...</td>\n",
       "      <td>https://www.elmira.edu/Administration/Human_Re...</td>\n",
       "      <td>Rhetoric/Composition</td>\n",
       "      <td>1952</td>\n",
       "      <td>Elmira College (USA: NY). Director of the Firs...</td>\n",
       "    </tr>\n",
       "    <tr>\n",
       "      <th>...</th>\n",
       "      <td>...</td>\n",
       "      <td>...</td>\n",
       "      <td>...</td>\n",
       "      <td>...</td>\n",
       "      <td>...</td>\n",
       "      <td>...</td>\n",
       "      <td>...</td>\n",
       "      <td>...</td>\n",
       "      <td>...</td>\n",
       "      <td>...</td>\n",
       "      <td>...</td>\n",
       "    </tr>\n",
       "    <tr>\n",
       "      <th>14634</th>\n",
       "      <td>begin August 2021</td>\n",
       "      <td>2020</td>\n",
       "      <td>NaN</td>\n",
       "      <td>Unknown</td>\n",
       "      <td>Italian</td>\n",
       "      <td>Wiki</td>\n",
       "      <td>The Edwards College of Humanities and Fine Art...</td>\n",
       "      <td>NaN</td>\n",
       "      <td>Languages</td>\n",
       "      <td>2</td>\n",
       "      <td>begin August 2021</td>\n",
       "    </tr>\n",
       "    <tr>\n",
       "      <th>14734</th>\n",
       "      <td>Mount Holyoke College (MA, USA).</td>\n",
       "      <td>2020</td>\n",
       "      <td>https://careers.pageuppeople.com/1024/cw/en-us...</td>\n",
       "      <td>Unknown</td>\n",
       "      <td>African %26 African American Studies</td>\n",
       "      <td>Wiki</td>\n",
       "      <td>Mount Holyoke College (MA, USA). Visiting Lect...</td>\n",
       "      <td>https://careers.pageuppeople.com/1024/cw/en-us...</td>\n",
       "      <td>Ethnic Studies</td>\n",
       "      <td>66</td>\n",
       "      <td>Mount Holyoke College (MA, USA).</td>\n",
       "    </tr>\n",
       "    <tr>\n",
       "      <th>14740</th>\n",
       "      <td>St. Lawrence University (USA:NY).</td>\n",
       "      <td>2020</td>\n",
       "      <td>http://employment.stlawu.edu/ | https://joblis...</td>\n",
       "      <td>Non-TT</td>\n",
       "      <td>African %26 African American Studies</td>\n",
       "      <td>Wiki</td>\n",
       "      <td>St. Lawrence University (USA:NY). Visiting Ass...</td>\n",
       "      <td>https://joblist.mla.org/job-details/4358</td>\n",
       "      <td>Ethnic Studies</td>\n",
       "      <td>66</td>\n",
       "      <td>St. Lawrence University (USA:NY).</td>\n",
       "    </tr>\n",
       "    <tr>\n",
       "      <th>14806</th>\n",
       "      <td>St. Lawrence University (Canton, NY). Visiting...</td>\n",
       "      <td>2020</td>\n",
       "      <td>NaN</td>\n",
       "      <td>Non-TT</td>\n",
       "      <td>Chicanx %26 Latinx Studies</td>\n",
       "      <td>Wiki</td>\n",
       "      <td>St. Lawrence University (Canton, NY). Visiting...</td>\n",
       "      <td>NaN</td>\n",
       "      <td>Ethnic Studies</td>\n",
       "      <td>3</td>\n",
       "      <td>St. Lawrence University (Canton, NY). Visiting...</td>\n",
       "    </tr>\n",
       "    <tr>\n",
       "      <th>14807</th>\n",
       "      <td>Pitzer College (USA: CA)</td>\n",
       "      <td>2020</td>\n",
       "      <td>https://academicjobsonline.org/ajo/jobs/18616</td>\n",
       "      <td>Non-TT</td>\n",
       "      <td>Chicanx %26 Latinx Studies</td>\n",
       "      <td>Wiki</td>\n",
       "      <td>Pitzer College (USA: CA) Visiting Assistant Pr...</td>\n",
       "      <td>https://academicjobsonline.org/ajo/jobs/18616</td>\n",
       "      <td>Ethnic Studies</td>\n",
       "      <td>3</td>\n",
       "      <td>Pitzer College (USA: CA)</td>\n",
       "    </tr>\n",
       "  </tbody>\n",
       "</table>\n",
       "<p>390 rows × 11 columns</p>\n",
       "</div>"
      ],
      "text/plain": [
       "                                                JobTitle  JobYear  \\\n",
       "350                    University of Göttingen (Germany)     2020   \n",
       "351                University of Groningen (Netherlands)     2020   \n",
       "1466   The Hebrew University of Jerusalem (Israel): A...     2020   \n",
       "7756   Central Michigan University (MI, USA). Associa...     2020   \n",
       "7760   Elmira College (USA: NY). Director of the Firs...     2020   \n",
       "...                                                  ...      ...   \n",
       "14634                                  begin August 2021     2020   \n",
       "14734                   Mount Holyoke College (MA, USA).     2020   \n",
       "14740                  St. Lawrence University (USA:NY).     2020   \n",
       "14806  St. Lawrence University (Canton, NY). Visiting...     2020   \n",
       "14807                           Pitzer College (USA: CA)     2020   \n",
       "\n",
       "                                                 JobLink  JobType  \\\n",
       "350    https://www.uni-goettingen.de/en/305402.html?c...  Unknown   \n",
       "351    https://www.rug.nl/about-ug/work-with-us/job-o...  Unknown   \n",
       "1466   https://joblist.mla.org/job-details/3051/profe...       TT   \n",
       "7756           https://www.jobs.cmich.edu/postings/33847   Non-TT   \n",
       "7760   https://www.elmira.edu/Administration/Human_Re...   Non-TT   \n",
       "...                                                  ...      ...   \n",
       "14634                                                NaN  Unknown   \n",
       "14734  https://careers.pageuppeople.com/1024/cw/en-us...  Unknown   \n",
       "14740  http://employment.stlawu.edu/ | https://joblis...   Non-TT   \n",
       "14806                                                NaN   Non-TT   \n",
       "14807      https://academicjobsonline.org/ajo/jobs/18616   Non-TT   \n",
       "\n",
       "                                   JobField JobSource  \\\n",
       "350                                Medieval      Wiki   \n",
       "351                                Medieval      Wiki   \n",
       "1466                           British Open      Wiki   \n",
       "7756                   Rhetoric/Composition      Wiki   \n",
       "7760                   Rhetoric/Composition      Wiki   \n",
       "...                                     ...       ...   \n",
       "14634                               Italian      Wiki   \n",
       "14734  African %26 African American Studies      Wiki   \n",
       "14740  African %26 African American Studies      Wiki   \n",
       "14806            Chicanx %26 Latinx Studies      Wiki   \n",
       "14807            Chicanx %26 Latinx Studies      Wiki   \n",
       "\n",
       "                                                 JobDesc  \\\n",
       "350    University of Göttingen (Germany). Lecturer. D...   \n",
       "351    University of Groningen (Netherlands). Lecture...   \n",
       "1466   Deadline: 31 August, 2021. \\nSee details here:...   \n",
       "7756   Deadline: July 31. NT. FT. Staff. Link to Job ...   \n",
       "7760   Deadline: May 1. TT. FT. Job Posting. Updates:...   \n",
       "...                                                  ...   \n",
       "14634  The Edwards College of Humanities and Fine Art...   \n",
       "14734  Mount Holyoke College (MA, USA). Visiting Lect...   \n",
       "14740  St. Lawrence University (USA:NY). Visiting Ass...   \n",
       "14806  St. Lawrence University (Canton, NY). Visiting...   \n",
       "14807  Pitzer College (USA: CA) Visiting Assistant Pr...   \n",
       "\n",
       "                                            JobLink_norm  \\\n",
       "350    https://www.uni-goettingen.de/en/305402.html?c...   \n",
       "351    https://www.rug.nl/about-ug/work-with-us/job-o...   \n",
       "1466            https://joblist.mla.org/job-details/3051   \n",
       "7756           https://www.jobs.cmich.edu/postings/33847   \n",
       "7760   https://www.elmira.edu/Administration/Human_Re...   \n",
       "...                                                  ...   \n",
       "14634                                                NaN   \n",
       "14734  https://careers.pageuppeople.com/1024/cw/en-us...   \n",
       "14740           https://joblist.mla.org/job-details/4358   \n",
       "14806                                                NaN   \n",
       "14807      https://academicjobsonline.org/ajo/jobs/18616   \n",
       "\n",
       "                 FieldAlias  Count  \\\n",
       "350                Medieval    202   \n",
       "351                Medieval    202   \n",
       "1466           British Open     93   \n",
       "7756   Rhetoric/Composition   1952   \n",
       "7760   Rhetoric/Composition   1952   \n",
       "...                     ...    ...   \n",
       "14634             Languages      2   \n",
       "14734        Ethnic Studies     66   \n",
       "14740        Ethnic Studies     66   \n",
       "14806        Ethnic Studies      3   \n",
       "14807        Ethnic Studies      3   \n",
       "\n",
       "                                                   JobID  \n",
       "350                    University of Göttingen (Germany)  \n",
       "351                University of Groningen (Netherlands)  \n",
       "1466   The Hebrew University of Jerusalem (Israel): A...  \n",
       "7756   Central Michigan University (MI, USA). Associa...  \n",
       "7760   Elmira College (USA: NY). Director of the Firs...  \n",
       "...                                                  ...  \n",
       "14634                                  begin August 2021  \n",
       "14734                   Mount Holyoke College (MA, USA).  \n",
       "14740                  St. Lawrence University (USA:NY).  \n",
       "14806  St. Lawrence University (Canton, NY). Visiting...  \n",
       "14807                           Pitzer College (USA: CA)  \n",
       "\n",
       "[390 rows x 11 columns]"
      ]
     },
     "execution_count": 12,
     "metadata": {},
     "output_type": "execute_result"
    }
   ],
   "source": [
    "# get new jobs\n",
    "new_jobs = df2[df2.JobID.isin(new_job_ids)]\n",
    "new_jobs"
   ]
  },
  {
   "cell_type": "code",
   "execution_count": 15,
   "metadata": {},
   "outputs": [
    {
     "data": {
      "text/plain": [
       "--                      340\n",
       "Postdoc                  22\n",
       "Creative Writing         10\n",
       "Rhetoric/Composition      5\n",
       "Ethnic Studies            4\n",
       "Medieval                  2\n",
       "Theatre/Drama             2\n",
       "British Open              1\n",
       "Languages                 1\n",
       "Gender Studies            1\n",
       "American: C19/Early       1\n",
       "British: C19              1\n",
       "Name: FieldAlias, dtype: int64"
      ]
     },
     "execution_count": 15,
     "metadata": {},
     "output_type": "execute_result"
    }
   ],
   "source": [
    "# new jobs\n",
    "new_jobs.FieldAlias.value_counts()"
   ]
  },
  {
   "cell_type": "code",
   "execution_count": 17,
   "metadata": {},
   "outputs": [],
   "source": [
    "#new_jobs[new_jobs['FieldAlias']=='--']"
   ]
  },
  {
   "cell_type": "code",
   "execution_count": 14,
   "metadata": {},
   "outputs": [
    {
     "data": {
      "text/plain": [
       "--                          368\n",
       "Postdoc                     252\n",
       "Ethnic Studies              189\n",
       "Creative Writing            112\n",
       "Rhetoric/Composition         95\n",
       "Theatre/Drama                51\n",
       "Languages                    43\n",
       "Anglophone/Postcolonial      26\n",
       "Gender Studies               23\n",
       "American Studies             11\n",
       "Jewish Studies                9\n",
       "Medieval                      7\n",
       "American: C19/Early           5\n",
       "British: C17-C18              5\n",
       "Unknown                       4\n",
       "Comparative Literature        4\n",
       "British: C19                  4\n",
       "New Media and DH              4\n",
       "Generalist                    4\n",
       "British Open                  3\n",
       "Translation Studies           3\n",
       "American: C20-C21             2\n",
       "Poetry                        1\n",
       "Critical Theory               1\n",
       "Children’s Lit                1\n",
       "Early Modern                  1\n",
       "Environmental Literature      1\n",
       "Name: FieldAlias, dtype: int64"
      ]
     },
     "execution_count": 14,
     "metadata": {},
     "output_type": "execute_result"
    }
   ],
   "source": [
    "# all jobs\n",
    "df2.FieldAlias.value_counts()"
   ]
  },
  {
   "cell_type": "code",
   "execution_count": null,
   "metadata": {},
   "outputs": [],
   "source": []
  },
  {
   "cell_type": "code",
   "execution_count": null,
   "metadata": {},
   "outputs": [],
   "source": []
  }
 ],
 "metadata": {
  "kernelspec": {
   "display_name": "Python 3",
   "language": "python",
   "name": "python3"
  },
  "language_info": {
   "codemirror_mode": {
    "name": "ipython",
    "version": 3
   },
   "file_extension": ".py",
   "mimetype": "text/x-python",
   "name": "python",
   "nbconvert_exporter": "python",
   "pygments_lexer": "ipython3",
   "version": "3.8.8"
  },
  "widgets": {
   "application/vnd.jupyter.widget-state+json": {
    "state": {},
    "version_major": 2,
    "version_minor": 0
   }
  }
 },
 "nbformat": 4,
 "nbformat_minor": 4
}
